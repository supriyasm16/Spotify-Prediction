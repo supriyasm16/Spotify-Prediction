{
  "nbformat": 4,
  "nbformat_minor": 0,
  "metadata": {
    "application/vnd.databricks.v1+notebook": {
      "notebookName": "Spotify_prediction",
      "dashboards": [
        {
          "elements": [
            {
              "elementNUID": "6b89078c-21cb-4b7a-903d-66fd2a9ce88b",
              "guid": "29a81712-2335-46f4-a19a-158c381b680c",
              "options": null,
              "position": {
                "x": 0,
                "y": 36,
                "height": 6,
                "width": 12,
                "z": null
              },
              "elementType": "command"
            },
            {
              "elementNUID": "39ec1603-008e-4780-9fb1-d430c7f7065b",
              "guid": "333029c4-fbdb-4b63-968e-de516510fe8e",
              "options": null,
              "position": {
                "x": 0,
                "y": 6,
                "height": 6,
                "width": 12,
                "z": null
              },
              "elementType": "command"
            },
            {
              "elementNUID": "30439538-4fe5-47b2-8c79-0930a1860cb2",
              "guid": "367b1eb5-1fe3-4307-aaa6-d46524734a9c",
              "options": null,
              "position": {
                "x": 0,
                "y": 48,
                "height": 6,
                "width": 12,
                "z": null
              },
              "elementType": "command"
            },
            {
              "elementNUID": "9db16954-d20b-4955-9af7-6427561dafa3",
              "guid": "5691a765-f248-4323-9882-d9cb703d63af",
              "options": null,
              "position": {
                "x": 0,
                "y": 42,
                "height": 6,
                "width": 12,
                "z": null
              },
              "elementType": "command"
            },
            {
              "elementNUID": "9e351ca8-b1df-4852-a2b8-48f8c88b7962",
              "guid": "5823c6e7-c255-4097-adf2-c48fa599a1b0",
              "options": null,
              "position": {
                "x": 0,
                "y": 24,
                "height": 6,
                "width": 12,
                "z": null
              },
              "elementType": "command"
            },
            {
              "elementNUID": "715c3c8a-f987-49ba-a6e8-ba5c78600ea8",
              "guid": "7945fb81-5a12-484d-ad54-3392cdc33fad",
              "options": null,
              "position": {
                "x": 0,
                "y": 54,
                "height": 6,
                "width": 12,
                "z": null
              },
              "elementType": "command"
            },
            {
              "elementNUID": "d42610b8-a711-48ee-adca-9f3a89639e48",
              "guid": "9027e3a8-6dbb-470f-bfb9-23ffade24dd4",
              "options": null,
              "position": {
                "x": 0,
                "y": 30,
                "height": 6,
                "width": 12,
                "z": null
              },
              "elementType": "command"
            },
            {
              "elementNUID": "57d90260-3154-4a28-abf8-cfd2c966706a",
              "guid": "e9c9aaca-10bd-4b00-99fd-9bc9597dc7e7",
              "options": null,
              "position": {
                "x": 0,
                "y": 18,
                "height": 6,
                "width": 12,
                "z": null
              },
              "elementType": "command"
            },
            {
              "elementNUID": "2c6b6f44-58bd-4fe9-a385-248d024b38c4",
              "guid": "edd401e6-b6af-4ff6-9f5c-ae84b1d4e022",
              "options": null,
              "position": {
                "x": 0,
                "y": 12,
                "height": 6,
                "width": 12,
                "z": null
              },
              "elementType": "command"
            },
            {
              "elementNUID": "a84ab352-c242-44b3-ada7-d6d0a27e548b",
              "guid": "f2ea9d31-423d-400d-a4af-6698edbcbc63",
              "options": null,
              "position": {
                "x": 0,
                "y": 60,
                "height": 6,
                "width": 12,
                "z": null
              },
              "elementType": "command"
            },
            {
              "elementNUID": "4bb0b5d4-fa17-4bc0-968c-5ec82414e595",
              "guid": "fd6c3653-1668-4f86-85b9-2bd033e1bca8",
              "options": null,
              "position": {
                "x": 0,
                "y": 0,
                "height": 6,
                "width": 12,
                "z": null
              },
              "elementType": "command"
            }
          ],
          "guid": "29dc87df-4918-4c2c-94da-f48b4f219245",
          "layoutOption": {
            "stack": true,
            "grid": true
          },
          "version": "DashboardViewV1",
          "nuid": "e0a6b30f-5e9d-4719-b253-306c002b2639",
          "origId": 4253380831849184,
          "title": "Untitled",
          "width": 1024,
          "globalVars": {}
        }
      ],
      "language": "python",
      "widgets": {},
      "notebookOrigID": 2806941037609760
    },
    "colab": {
      "name": "Spotify_prediction (1).ipynb",
      "provenance": [],
      "collapsed_sections": []
    },
    "language_info": {
      "name": "python"
    },
    "kernelspec": {
      "name": "python3",
      "display_name": "Python 3"
    }
  },
  "cells": [
    {
      "cell_type": "code",
      "metadata": {
        "colab": {
          "base_uri": "https://localhost:8080/"
        },
        "id": "TSrHCxon_-MB",
        "outputId": "c4213e61-a54c-4e29-e9fb-9aee5aa938b4"
      },
      "source": [
        "!sudo add-apt-repository --remove ppa:vikoadi/ppa\n",
        "!sudo apt update"
      ],
      "execution_count": 1,
      "outputs": [
        {
          "output_type": "stream",
          "text": [
            " Contains :\n",
            "* KDE Connect Indicator for Ubuntu and elementary OS, for information please read http://vikoadi.blogspot.com\n",
            "* latest KDE Connect Package\n",
            " More info: https://launchpad.net/~vikoadi/+archive/ubuntu/ppa\n",
            "Press [ENTER] to continue or Ctrl-c to cancel removing it.\n",
            "\n",
            "Get:1 http://security.ubuntu.com/ubuntu bionic-security InRelease [88.7 kB]\n",
            "Ign:2 https://developer.download.nvidia.com/compute/cuda/repos/ubuntu1804/x86_64  InRelease\n",
            "Hit:3 http://ppa.launchpad.net/c2d4u.team/c2d4u4.0+/ubuntu bionic InRelease\n",
            "Hit:4 https://cloud.r-project.org/bin/linux/ubuntu bionic-cran40/ InRelease\n",
            "Hit:5 http://archive.ubuntu.com/ubuntu bionic InRelease\n",
            "Ign:6 https://developer.download.nvidia.com/compute/machine-learning/repos/ubuntu1804/x86_64  InRelease\n",
            "Hit:7 https://developer.download.nvidia.com/compute/cuda/repos/ubuntu1804/x86_64  Release\n",
            "Hit:8 https://developer.download.nvidia.com/compute/machine-learning/repos/ubuntu1804/x86_64  Release\n",
            "Get:9 http://archive.ubuntu.com/ubuntu bionic-updates InRelease [88.7 kB]\n",
            "Hit:10 http://ppa.launchpad.net/cran/libgit2/ubuntu bionic InRelease\n",
            "Hit:11 http://ppa.launchpad.net/deadsnakes/ppa/ubuntu bionic InRelease\n",
            "Get:13 http://archive.ubuntu.com/ubuntu bionic-backports InRelease [74.6 kB]\n",
            "Hit:15 http://ppa.launchpad.net/graphics-drivers/ppa/ubuntu bionic InRelease\n",
            "Fetched 252 kB in 1s (192 kB/s)\n",
            "Reading package lists... Done\n",
            "Building dependency tree       \n",
            "Reading state information... Done\n",
            "48 packages can be upgraded. Run 'apt list --upgradable' to see them.\n"
          ],
          "name": "stdout"
        }
      ]
    },
    {
      "cell_type": "code",
      "metadata": {
        "colab": {
          "base_uri": "https://localhost:8080/"
        },
        "id": "Py1XkELnvrO0",
        "outputId": "f446307c-538d-43ca-ea69-484a30836c12"
      },
      "source": [
        "! sudo apt install openjdk-8-jdk\n",
        "! sudo update-alternatives --config java\n"
      ],
      "execution_count": 2,
      "outputs": [
        {
          "output_type": "stream",
          "text": [
            "Reading package lists... Done\n",
            "Building dependency tree       \n",
            "Reading state information... Done\n",
            "openjdk-8-jdk is already the newest version (8u292-b10-0ubuntu1~18.04).\n",
            "0 upgraded, 0 newly installed, 0 to remove and 48 not upgraded.\n",
            "There are 2 choices for the alternative java (providing /usr/bin/java).\n",
            "\n",
            "  Selection    Path                                            Priority   Status\n",
            "------------------------------------------------------------\n",
            "  0            /usr/lib/jvm/java-11-openjdk-amd64/bin/java      1111      auto mode\n",
            "  1            /usr/lib/jvm/java-11-openjdk-amd64/bin/java      1111      manual mode\n",
            "* 2            /usr/lib/jvm/java-8-openjdk-amd64/jre/bin/java   1081      manual mode\n",
            "\n",
            "Press <enter> to keep the current choice[*], or type selection number: 2\n"
          ],
          "name": "stdout"
        }
      ]
    },
    {
      "cell_type": "code",
      "metadata": {
        "application/vnd.databricks.v1+cell": {
          "title": "                                                                  Big Data Analysis Project ",
          "showTitle": true,
          "inputWidgets": {},
          "nuid": "aa098f5d-8b1a-408a-b5db-a98e45b558ca"
        },
        "colab": {
          "base_uri": "https://localhost:8080/"
        },
        "id": "V2PrN115XrMa",
        "outputId": "dac6a2e0-3e29-4167-bd90-2e15587c6f16"
      },
      "source": [
        "#Importing all the libraries\n",
        "!apt install libkrb5-dev\n",
        "!wget https://www-us.apache.org/dist/spark/spark-3.1.2/spark-3.1.2-bin-hadoop3.2.tgz\n",
        "!tar xf spark-3.1.2-bin-hadoop3.2.tgz\n",
        "!pip install findspark\n",
        "!pip install sparkmagic\n",
        "!pip install pyspark\n",
        "!pip install pyspark --user\n",
        "!pip install seaborn --user\n",
        "!pip install plotly --user\n",
        "!pip install imageio --user\n",
        "!pip install folium --user\n",
        "\n"
      ],
      "execution_count": 3,
      "outputs": [
        {
          "output_type": "stream",
          "text": [
            "Reading package lists... Done\n",
            "Building dependency tree       \n",
            "Reading state information... Done\n",
            "libkrb5-dev is already the newest version (1.16-2ubuntu0.2).\n",
            "0 upgraded, 0 newly installed, 0 to remove and 48 not upgraded.\n",
            "--2021-06-10 22:29:48--  https://www-us.apache.org/dist/spark/spark-3.1.2/spark-3.1.2-bin-hadoop3.2.tgz\n",
            "Resolving www-us.apache.org (www-us.apache.org)... 207.244.88.140\n",
            "Connecting to www-us.apache.org (www-us.apache.org)|207.244.88.140|:443... connected.\n",
            "HTTP request sent, awaiting response... 302 Found\n",
            "Location: https://downloads.apache.org/spark/spark-3.1.2/spark-3.1.2-bin-hadoop3.2.tgz [following]\n",
            "--2021-06-10 22:29:49--  https://downloads.apache.org/spark/spark-3.1.2/spark-3.1.2-bin-hadoop3.2.tgz\n",
            "Resolving downloads.apache.org (downloads.apache.org)... 88.99.95.219, 135.181.214.104, 135.181.209.10, ...\n",
            "Connecting to downloads.apache.org (downloads.apache.org)|88.99.95.219|:443... connected.\n",
            "HTTP request sent, awaiting response... 200 OK\n",
            "Length: 228834641 (218M) [application/x-gzip]\n",
            "Saving to: ‘spark-3.1.2-bin-hadoop3.2.tgz’\n",
            "\n",
            "spark-3.1.2-bin-had 100%[===================>] 218.23M  22.3MB/s    in 11s     \n",
            "\n",
            "2021-06-10 22:30:00 (20.4 MB/s) - ‘spark-3.1.2-bin-hadoop3.2.tgz’ saved [228834641/228834641]\n",
            "\n",
            "Requirement already satisfied: findspark in /usr/local/lib/python3.7/dist-packages (1.4.2)\n",
            "Requirement already satisfied: sparkmagic in /usr/local/lib/python3.7/dist-packages (0.19.0)\n",
            "Requirement already satisfied: notebook>=4.2 in /usr/local/lib/python3.7/dist-packages (from sparkmagic) (5.3.1)\n",
            "Requirement already satisfied: tornado>=4 in /usr/local/lib/python3.7/dist-packages (from sparkmagic) (5.1.1)\n",
            "Requirement already satisfied: ipython>=4.0.2 in /usr/local/lib/python3.7/dist-packages (from sparkmagic) (5.5.0)\n",
            "Requirement already satisfied: nose in /usr/local/lib/python3.7/dist-packages (from sparkmagic) (1.3.7)\n",
            "Requirement already satisfied: autovizwidget>=0.6 in /usr/local/lib/python3.7/dist-packages (from sparkmagic) (0.19.0)\n",
            "Requirement already satisfied: ipykernel in /usr/local/lib/python3.7/dist-packages (from sparkmagic) (4.10.1)\n",
            "Requirement already satisfied: requests-kerberos>=0.8.0 in /usr/local/lib/python3.7/dist-packages (from sparkmagic) (0.12.0)\n",
            "Requirement already satisfied: mock in /usr/local/lib/python3.7/dist-packages (from sparkmagic) (4.0.3)\n",
            "Requirement already satisfied: ipywidgets>5.0.0 in /usr/local/lib/python3.7/dist-packages (from sparkmagic) (7.6.3)\n",
            "Requirement already satisfied: numpy in /usr/local/lib/python3.7/dist-packages (from sparkmagic) (1.19.5)\n",
            "Requirement already satisfied: hdijupyterutils>=0.6 in /usr/local/lib/python3.7/dist-packages (from sparkmagic) (0.19.0)\n",
            "Requirement already satisfied: requests in /usr/local/lib/python3.7/dist-packages (from sparkmagic) (2.23.0)\n",
            "Requirement already satisfied: pandas>=0.17.1 in /usr/local/lib/python3.7/dist-packages (from sparkmagic) (1.1.5)\n",
            "Requirement already satisfied: jinja2 in /usr/local/lib/python3.7/dist-packages (from notebook>=4.2->sparkmagic) (2.11.3)\n",
            "Requirement already satisfied: jupyter-client>=5.2.0 in /usr/local/lib/python3.7/dist-packages (from notebook>=4.2->sparkmagic) (5.3.5)\n",
            "Requirement already satisfied: terminado>=0.8.1 in /usr/local/lib/python3.7/dist-packages (from notebook>=4.2->sparkmagic) (0.10.0)\n",
            "Requirement already satisfied: nbformat in /usr/local/lib/python3.7/dist-packages (from notebook>=4.2->sparkmagic) (5.1.3)\n",
            "Requirement already satisfied: ipython-genutils in /usr/local/lib/python3.7/dist-packages (from notebook>=4.2->sparkmagic) (0.2.0)\n",
            "Requirement already satisfied: nbconvert in /usr/local/lib/python3.7/dist-packages (from notebook>=4.2->sparkmagic) (5.6.1)\n",
            "Requirement already satisfied: Send2Trash in /usr/local/lib/python3.7/dist-packages (from notebook>=4.2->sparkmagic) (1.5.0)\n",
            "Requirement already satisfied: jupyter-core>=4.4.0 in /usr/local/lib/python3.7/dist-packages (from notebook>=4.2->sparkmagic) (4.7.1)\n",
            "Requirement already satisfied: traitlets>=4.2.1 in /usr/local/lib/python3.7/dist-packages (from notebook>=4.2->sparkmagic) (5.0.5)\n",
            "Requirement already satisfied: setuptools>=18.5 in /usr/local/lib/python3.7/dist-packages (from ipython>=4.0.2->sparkmagic) (57.0.0)\n",
            "Requirement already satisfied: pickleshare in /usr/local/lib/python3.7/dist-packages (from ipython>=4.0.2->sparkmagic) (0.7.5)\n",
            "Requirement already satisfied: prompt-toolkit<2.0.0,>=1.0.4 in /usr/local/lib/python3.7/dist-packages (from ipython>=4.0.2->sparkmagic) (1.0.18)\n",
            "Requirement already satisfied: simplegeneric>0.8 in /usr/local/lib/python3.7/dist-packages (from ipython>=4.0.2->sparkmagic) (0.8.1)\n",
            "Requirement already satisfied: decorator in /usr/local/lib/python3.7/dist-packages (from ipython>=4.0.2->sparkmagic) (4.4.2)\n",
            "Requirement already satisfied: pexpect; sys_platform != \"win32\" in /usr/local/lib/python3.7/dist-packages (from ipython>=4.0.2->sparkmagic) (4.8.0)\n",
            "Requirement already satisfied: pygments in /usr/local/lib/python3.7/dist-packages (from ipython>=4.0.2->sparkmagic) (2.6.1)\n",
            "Requirement already satisfied: plotly>=3 in /usr/local/lib/python3.7/dist-packages (from autovizwidget>=0.6->sparkmagic) (4.4.1)\n",
            "Requirement already satisfied: pykerberos<2.0.0,>=1.1.8; sys_platform != \"win32\" in /usr/local/lib/python3.7/dist-packages (from requests-kerberos>=0.8.0->sparkmagic) (1.2.1)\n",
            "Requirement already satisfied: cryptography>=1.3; python_version != \"3.3\" in /usr/local/lib/python3.7/dist-packages (from requests-kerberos>=0.8.0->sparkmagic) (3.4.7)\n",
            "Requirement already satisfied: widgetsnbextension~=3.5.0 in /usr/local/lib/python3.7/dist-packages (from ipywidgets>5.0.0->sparkmagic) (3.5.1)\n",
            "Requirement already satisfied: jupyterlab-widgets>=1.0.0; python_version >= \"3.6\" in /usr/local/lib/python3.7/dist-packages (from ipywidgets>5.0.0->sparkmagic) (1.0.0)\n",
            "Requirement already satisfied: jupyter>=1 in /usr/local/lib/python3.7/dist-packages (from hdijupyterutils>=0.6->sparkmagic) (1.0.0)\n",
            "Requirement already satisfied: certifi>=2017.4.17 in /usr/local/lib/python3.7/dist-packages (from requests->sparkmagic) (2020.12.5)\n",
            "Requirement already satisfied: urllib3!=1.25.0,!=1.25.1,<1.26,>=1.21.1 in /usr/local/lib/python3.7/dist-packages (from requests->sparkmagic) (1.24.3)\n",
            "Requirement already satisfied: idna<3,>=2.5 in /usr/local/lib/python3.7/dist-packages (from requests->sparkmagic) (2.10)\n",
            "Requirement already satisfied: chardet<4,>=3.0.2 in /usr/local/lib/python3.7/dist-packages (from requests->sparkmagic) (3.0.4)\n",
            "Requirement already satisfied: python-dateutil>=2.7.3 in /usr/local/lib/python3.7/dist-packages (from pandas>=0.17.1->sparkmagic) (2.8.1)\n",
            "Requirement already satisfied: pytz>=2017.2 in /usr/local/lib/python3.7/dist-packages (from pandas>=0.17.1->sparkmagic) (2018.9)\n",
            "Requirement already satisfied: MarkupSafe>=0.23 in /usr/local/lib/python3.7/dist-packages (from jinja2->notebook>=4.2->sparkmagic) (2.0.1)\n",
            "Requirement already satisfied: pyzmq>=13 in /usr/local/lib/python3.7/dist-packages (from jupyter-client>=5.2.0->notebook>=4.2->sparkmagic) (22.0.3)\n",
            "Requirement already satisfied: ptyprocess; os_name != \"nt\" in /usr/local/lib/python3.7/dist-packages (from terminado>=0.8.1->notebook>=4.2->sparkmagic) (0.7.0)\n",
            "Requirement already satisfied: jsonschema!=2.5.0,>=2.4 in /usr/local/lib/python3.7/dist-packages (from nbformat->notebook>=4.2->sparkmagic) (2.6.0)\n",
            "Requirement already satisfied: bleach in /usr/local/lib/python3.7/dist-packages (from nbconvert->notebook>=4.2->sparkmagic) (3.3.0)\n",
            "Requirement already satisfied: entrypoints>=0.2.2 in /usr/local/lib/python3.7/dist-packages (from nbconvert->notebook>=4.2->sparkmagic) (0.3)\n",
            "Requirement already satisfied: testpath in /usr/local/lib/python3.7/dist-packages (from nbconvert->notebook>=4.2->sparkmagic) (0.5.0)\n",
            "Requirement already satisfied: mistune<2,>=0.8.1 in /usr/local/lib/python3.7/dist-packages (from nbconvert->notebook>=4.2->sparkmagic) (0.8.4)\n",
            "Requirement already satisfied: defusedxml in /usr/local/lib/python3.7/dist-packages (from nbconvert->notebook>=4.2->sparkmagic) (0.7.1)\n",
            "Requirement already satisfied: pandocfilters>=1.4.1 in /usr/local/lib/python3.7/dist-packages (from nbconvert->notebook>=4.2->sparkmagic) (1.4.3)\n",
            "Requirement already satisfied: six>=1.9.0 in /usr/local/lib/python3.7/dist-packages (from prompt-toolkit<2.0.0,>=1.0.4->ipython>=4.0.2->sparkmagic) (1.15.0)\n",
            "Requirement already satisfied: wcwidth in /usr/local/lib/python3.7/dist-packages (from prompt-toolkit<2.0.0,>=1.0.4->ipython>=4.0.2->sparkmagic) (0.2.5)\n",
            "Requirement already satisfied: retrying>=1.3.3 in /usr/local/lib/python3.7/dist-packages (from plotly>=3->autovizwidget>=0.6->sparkmagic) (1.3.3)\n",
            "Requirement already satisfied: cffi>=1.12 in /usr/local/lib/python3.7/dist-packages (from cryptography>=1.3; python_version != \"3.3\"->requests-kerberos>=0.8.0->sparkmagic) (1.14.5)\n",
            "Requirement already satisfied: jupyter-console in /usr/local/lib/python3.7/dist-packages (from jupyter>=1->hdijupyterutils>=0.6->sparkmagic) (5.2.0)\n",
            "Requirement already satisfied: qtconsole in /usr/local/lib/python3.7/dist-packages (from jupyter>=1->hdijupyterutils>=0.6->sparkmagic) (5.1.0)\n",
            "Requirement already satisfied: packaging in /usr/local/lib/python3.7/dist-packages (from bleach->nbconvert->notebook>=4.2->sparkmagic) (20.9)\n",
            "Requirement already satisfied: webencodings in /usr/local/lib/python3.7/dist-packages (from bleach->nbconvert->notebook>=4.2->sparkmagic) (0.5.1)\n",
            "Requirement already satisfied: pycparser in /usr/local/lib/python3.7/dist-packages (from cffi>=1.12->cryptography>=1.3; python_version != \"3.3\"->requests-kerberos>=0.8.0->sparkmagic) (2.20)\n",
            "Requirement already satisfied: qtpy in /usr/local/lib/python3.7/dist-packages (from qtconsole->jupyter>=1->hdijupyterutils>=0.6->sparkmagic) (1.9.0)\n",
            "Requirement already satisfied: pyparsing>=2.0.2 in /usr/local/lib/python3.7/dist-packages (from packaging->bleach->nbconvert->notebook>=4.2->sparkmagic) (2.4.7)\n",
            "Requirement already satisfied: pyspark in /usr/local/lib/python3.7/dist-packages (3.1.2)\n",
            "Requirement already satisfied: py4j==0.10.9 in /usr/local/lib/python3.7/dist-packages (from pyspark) (0.10.9)\n",
            "Requirement already satisfied: pyspark in /usr/local/lib/python3.7/dist-packages (3.1.2)\n",
            "Requirement already satisfied: py4j==0.10.9 in /usr/local/lib/python3.7/dist-packages (from pyspark) (0.10.9)\n",
            "Requirement already satisfied: seaborn in /usr/local/lib/python3.7/dist-packages (0.11.1)\n",
            "Requirement already satisfied: matplotlib>=2.2 in /usr/local/lib/python3.7/dist-packages (from seaborn) (3.2.2)\n",
            "Requirement already satisfied: scipy>=1.0 in /usr/local/lib/python3.7/dist-packages (from seaborn) (1.4.1)\n",
            "Requirement already satisfied: numpy>=1.15 in /usr/local/lib/python3.7/dist-packages (from seaborn) (1.19.5)\n",
            "Requirement already satisfied: pandas>=0.23 in /usr/local/lib/python3.7/dist-packages (from seaborn) (1.1.5)\n",
            "Requirement already satisfied: kiwisolver>=1.0.1 in /usr/local/lib/python3.7/dist-packages (from matplotlib>=2.2->seaborn) (1.3.1)\n",
            "Requirement already satisfied: cycler>=0.10 in /usr/local/lib/python3.7/dist-packages (from matplotlib>=2.2->seaborn) (0.10.0)\n",
            "Requirement already satisfied: pyparsing!=2.0.4,!=2.1.2,!=2.1.6,>=2.0.1 in /usr/local/lib/python3.7/dist-packages (from matplotlib>=2.2->seaborn) (2.4.7)\n",
            "Requirement already satisfied: python-dateutil>=2.1 in /usr/local/lib/python3.7/dist-packages (from matplotlib>=2.2->seaborn) (2.8.1)\n",
            "Requirement already satisfied: pytz>=2017.2 in /usr/local/lib/python3.7/dist-packages (from pandas>=0.23->seaborn) (2018.9)\n",
            "Requirement already satisfied: six in /usr/local/lib/python3.7/dist-packages (from cycler>=0.10->matplotlib>=2.2->seaborn) (1.15.0)\n",
            "Requirement already satisfied: plotly in /usr/local/lib/python3.7/dist-packages (4.4.1)\n",
            "Requirement already satisfied: six in /usr/local/lib/python3.7/dist-packages (from plotly) (1.15.0)\n",
            "Requirement already satisfied: retrying>=1.3.3 in /usr/local/lib/python3.7/dist-packages (from plotly) (1.3.3)\n",
            "Requirement already satisfied: imageio in /usr/local/lib/python3.7/dist-packages (2.4.1)\n",
            "Requirement already satisfied: numpy in /usr/local/lib/python3.7/dist-packages (from imageio) (1.19.5)\n",
            "Requirement already satisfied: pillow in /usr/local/lib/python3.7/dist-packages (from imageio) (7.1.2)\n",
            "Requirement already satisfied: folium in /usr/local/lib/python3.7/dist-packages (0.8.3)\n",
            "Requirement already satisfied: jinja2 in /usr/local/lib/python3.7/dist-packages (from folium) (2.11.3)\n",
            "Requirement already satisfied: numpy in /usr/local/lib/python3.7/dist-packages (from folium) (1.19.5)\n",
            "Requirement already satisfied: branca>=0.3.0 in /usr/local/lib/python3.7/dist-packages (from folium) (0.4.2)\n",
            "Requirement already satisfied: requests in /usr/local/lib/python3.7/dist-packages (from folium) (2.23.0)\n",
            "Requirement already satisfied: six in /usr/local/lib/python3.7/dist-packages (from folium) (1.15.0)\n",
            "Requirement already satisfied: MarkupSafe>=0.23 in /usr/local/lib/python3.7/dist-packages (from jinja2->folium) (2.0.1)\n",
            "Requirement already satisfied: chardet<4,>=3.0.2 in /usr/local/lib/python3.7/dist-packages (from requests->folium) (3.0.4)\n",
            "Requirement already satisfied: idna<3,>=2.5 in /usr/local/lib/python3.7/dist-packages (from requests->folium) (2.10)\n",
            "Requirement already satisfied: urllib3!=1.25.0,!=1.25.1,<1.26,>=1.21.1 in /usr/local/lib/python3.7/dist-packages (from requests->folium) (1.24.3)\n",
            "Requirement already satisfied: certifi>=2017.4.17 in /usr/local/lib/python3.7/dist-packages (from requests->folium) (2020.12.5)\n"
          ],
          "name": "stdout"
        }
      ]
    },
    {
      "cell_type": "code",
      "metadata": {
        "colab": {
          "base_uri": "https://localhost:8080/"
        },
        "id": "ofu4nWp_cLFn",
        "outputId": "aefcb3ef-3098-491f-aada-51bcc8fb67c8"
      },
      "source": [
        "!apt update\n",
        "!apt install gcc python-dev libkrb5-dev"
      ],
      "execution_count": 4,
      "outputs": [
        {
          "output_type": "stream",
          "text": [
            "Get:1 http://security.ubuntu.com/ubuntu bionic-security InRelease [88.7 kB]\n",
            "Hit:2 https://cloud.r-project.org/bin/linux/ubuntu bionic-cran40/ InRelease\n",
            "Ign:3 https://developer.download.nvidia.com/compute/cuda/repos/ubuntu1804/x86_64  InRelease\n",
            "Hit:4 http://ppa.launchpad.net/c2d4u.team/c2d4u4.0+/ubuntu bionic InRelease\n",
            "Ign:5 https://developer.download.nvidia.com/compute/machine-learning/repos/ubuntu1804/x86_64  InRelease\n",
            "Hit:6 https://developer.download.nvidia.com/compute/cuda/repos/ubuntu1804/x86_64  Release\n",
            "Hit:7 https://developer.download.nvidia.com/compute/machine-learning/repos/ubuntu1804/x86_64  Release\n",
            "Hit:8 http://archive.ubuntu.com/ubuntu bionic InRelease\n",
            "Hit:9 http://ppa.launchpad.net/cran/libgit2/ubuntu bionic InRelease\n",
            "Get:10 http://archive.ubuntu.com/ubuntu bionic-updates InRelease [88.7 kB]\n",
            "Hit:11 http://ppa.launchpad.net/deadsnakes/ppa/ubuntu bionic InRelease\n",
            "Get:12 http://archive.ubuntu.com/ubuntu bionic-backports InRelease [74.6 kB]\n",
            "Hit:13 http://ppa.launchpad.net/graphics-drivers/ppa/ubuntu bionic InRelease\n",
            "Fetched 252 kB in 2s (101 kB/s)\n",
            "Reading package lists... Done\n",
            "Building dependency tree       \n",
            "Reading state information... Done\n",
            "48 packages can be upgraded. Run 'apt list --upgradable' to see them.\n",
            "Reading package lists... Done\n",
            "Building dependency tree       \n",
            "Reading state information... Done\n",
            "python-dev is already the newest version (2.7.15~rc1-1).\n",
            "gcc is already the newest version (4:7.4.0-1ubuntu2.3).\n",
            "libkrb5-dev is already the newest version (1.16-2ubuntu0.2).\n",
            "0 upgraded, 0 newly installed, 0 to remove and 48 not upgraded.\n"
          ],
          "name": "stdout"
        }
      ]
    },
    {
      "cell_type": "code",
      "metadata": {
        "id": "CbUJgDpuh_Zj"
      },
      "source": [
        "#!apt-repository ppa:webupd8team/java\n",
        "#!apt-get update\n",
        "#!apt-get install oracle-java8-installer"
      ],
      "execution_count": 5,
      "outputs": []
    },
    {
      "cell_type": "code",
      "metadata": {
        "id": "VQjm8oh5cMQC"
      },
      "source": [
        "%load_ext sparkmagic.magics"
      ],
      "execution_count": 6,
      "outputs": []
    },
    {
      "cell_type": "code",
      "metadata": {
        "id": "Lowp3p-5bn9p"
      },
      "source": [
        "import numpy as np \n",
        "import pandas as pd\n",
        "import os\n",
        "import datetime\n",
        "import matplotlib.pyplot as plt\n",
        "import seaborn as sns\n",
        "%matplotlib inline\n",
        "\n",
        "import warnings\n",
        "warnings.filterwarnings('ignore')\n",
        "\n",
        "from scipy.optimize import curve_fit\n",
        "from sklearn.preprocessing import FunctionTransformer\n",
        "from sklearn.preprocessing import StandardScaler\n",
        "from sklearn.preprocessing import OneHotEncoder\n",
        "from sklearn.preprocessing import MinMaxScaler\n",
        "from sklearn.linear_model import LinearRegression\n",
        "from sklearn.cluster import KMeans \n",
        "from sklearn.ensemble import RandomForestRegressor\n",
        "from sklearn.model_selection import GridSearchCV\n",
        "from sklearn.tree import DecisionTreeRegressor\n",
        "\n",
        "from sklearn.metrics import mean_squared_error as mse\n",
        "from sklearn.metrics import r2_score,mean_absolute_error\n",
        "\n",
        "from sklearn.model_selection import train_test_split"
      ],
      "execution_count": 7,
      "outputs": []
    },
    {
      "cell_type": "code",
      "metadata": {
        "id": "iqC13k4rcxfW"
      },
      "source": [
        "import sqlite3\n",
        "import pandas as pd\n",
        "import os\n",
        "os.environ['SPARK_HOME'] = \"/content/spark-3.1.2-bin-hadoop3.2\"\n",
        "os.environ[\"JAVA_HOME\"] = \"/usr/lib/jvm/java-8-openjdk-amd64\"\n"
      ],
      "execution_count": 8,
      "outputs": []
    },
    {
      "cell_type": "code",
      "metadata": {
        "id": "r6a8c0Eu3Pqb"
      },
      "source": [
        "import findspark \n",
        "findspark.init(\"/content/spark-3.1.2-bin-hadoop3.2\")"
      ],
      "execution_count": 9,
      "outputs": []
    },
    {
      "cell_type": "code",
      "metadata": {
        "id": "iePFDsyAe1eT"
      },
      "source": [
        "import pyspark\n",
        "from pyspark.sql import SQLContext\n",
        "from pyspark.sql import SparkSession\n",
        "from pyspark.sql.types import *\n",
        "import pyspark.sql.functions as F\n",
        "from pyspark import SparkFiles\n",
        "from pyspark.sql.types import StringType, IntegralType, DoubleType, StructField, StructType, ArrayType, MapType\n",
        "from pyspark import SparkConf"
      ],
      "execution_count": 10,
      "outputs": []
    },
    {
      "cell_type": "code",
      "metadata": {
        "id": "hO7ucplc_S1S"
      },
      "source": [
        "#!pip install pyspark"
      ],
      "execution_count": 11,
      "outputs": []
    },
    {
      "cell_type": "code",
      "metadata": {
        "id": "-odbF1-Gxi6Q"
      },
      "source": [
        "spark = SparkSession.builder.appName('Initial').getOrCreate()\n",
        "sqlContext=SQLContext(spark)"
      ],
      "execution_count": 12,
      "outputs": []
    },
    {
      "cell_type": "code",
      "metadata": {
        "id": "pEvfj1ARevkE"
      },
      "source": [
        "try:\n",
        "    if(spark == None):\n",
        "        spark = SparkSession.builder.appName('Initial').getOrCreate()\n",
        "        sqlContext=SQLContext(spark)\n",
        "except NameError:\n",
        "    spark = SparkSession.builder.appName('Initial').getOrCreate()\n",
        "    sqlContext=SQLContext(spark)"
      ],
      "execution_count": 13,
      "outputs": []
    },
    {
      "cell_type": "markdown",
      "metadata": {
        "id": "p7Xd3IC8CZmU"
      },
      "source": [
        "# New Section"
      ]
    },
    {
      "cell_type": "code",
      "metadata": {
        "application/vnd.databricks.v1+cell": {
          "title": "Loading the datasets",
          "showTitle": true,
          "inputWidgets": {},
          "nuid": "4bb0b5d4-fa17-4bc0-968c-5ec82414e595"
        },
        "colab": {
          "base_uri": "https://localhost:8080/",
          "height": 54
        },
        "id": "aHUyxSkQXrMd",
        "outputId": "5033f981-4b88-4be8-8b9a-a6c35da888f3"
      },
      "source": [
        "file_location = \"/content/data.csv\"\n",
        "file_type = \"csv\"\n",
        "\n",
        "# CSV options\n",
        "infer_schema = \"true\"\n",
        "first_row_is_header = \"true\"\n",
        "delimiter = \",\"\n",
        "\n",
        "# The applied options are for CSV files. For other file types, these will be ignored.\n",
        "df_data = spark.read.format(file_type) \\\n",
        "  .option(\"inferSchema\", infer_schema) \\\n",
        "  .option(\"header\", first_row_is_header) \\\n",
        " .option(\"sep\", delimiter) \\\n",
        " .load(file_location)\n",
        "\n",
        "#df_data = sqlContext.createDataFrame(data, [\"features\"])\n",
        "\n",
        "display(df_data)"
      ],
      "execution_count": 15,
      "outputs": [
        {
          "output_type": "display_data",
          "data": {
            "text/plain": [
              "DataFrame[valence: double, year: int, acousticness: double, artists: string, danceability: string, duration_ms: string, energy: string, explicit: string, id: string, instrumentalness: string, key: string, liveness: string, loudness: string, mode: string, name: string, popularity: string, release_date: string, speechiness: string, tempo: string]"
            ]
          },
          "metadata": {
            "tags": []
          }
        }
      ]
    },
    {
      "cell_type": "code",
      "metadata": {
        "application/vnd.databricks.v1+cell": {
          "title": "Loading the Dataset",
          "showTitle": true,
          "inputWidgets": {},
          "nuid": "39ec1603-008e-4780-9fb1-d430c7f7065b"
        },
        "colab": {
          "base_uri": "https://localhost:8080/",
          "height": 54
        },
        "id": "9dWRuo0QXrMe",
        "outputId": "6c18076c-0e64-4988-eac7-7f1bfd287533"
      },
      "source": [
        "file_location = \"/content/data_by_artist.csv\"\n",
        "file_type = \"csv\"\n",
        "\n",
        "# CSV options\n",
        "infer_schema = \"true\"\n",
        "first_row_is_header = \"true\"\n",
        "delimiter = \",\"\n",
        "\n",
        "# The applied options are for CSV files. For other file types, these will be ignored.\n",
        "df_data_by_artist = spark.read.format(file_type) \\\n",
        "  .option(\"inferSchema\", infer_schema) \\\n",
        "  .option(\"header\", first_row_is_header) \\\n",
        "  .option(\"sep\", delimiter) \\\n",
        "  .load(file_location)\n",
        "\n",
        "display(df_data_by_artist)"
      ],
      "execution_count": 16,
      "outputs": [
        {
          "output_type": "display_data",
          "data": {
            "text/plain": [
              "DataFrame[mode: int, count: int, acousticness: double, artists: string, danceability: double, duration_ms: double, energy: double, instrumentalness: double, liveness: double, loudness: double, speechiness: double, tempo: double, valence: double, popularity: double, key: int]"
            ]
          },
          "metadata": {
            "tags": []
          }
        }
      ]
    },
    {
      "cell_type": "code",
      "metadata": {
        "application/vnd.databricks.v1+cell": {
          "title": "",
          "showTitle": false,
          "inputWidgets": {},
          "nuid": "2c6b6f44-58bd-4fe9-a385-248d024b38c4"
        },
        "colab": {
          "base_uri": "https://localhost:8080/",
          "height": 54
        },
        "id": "2pE7_GtQXrMf",
        "outputId": "3e492253-37ca-409f-d0d0-770e4072ae09"
      },
      "source": [
        "file_location = \"/content/data_by_genres.csv\"\n",
        "file_type = \"csv\"\n",
        "\n",
        "# CSV options\n",
        "infer_schema = \"true\"\n",
        "first_row_is_header = \"true\"\n",
        "delimiter = \",\"\n",
        "\n",
        "# The applied options are for CSV files. For other file types, these will be ignored.\n",
        "df_data_by_genres = spark.read.format(file_type) \\\n",
        "  .option(\"inferSchema\", infer_schema) \\\n",
        "  .option(\"header\", first_row_is_header) \\\n",
        "  .option(\"sep\", delimiter) \\\n",
        "  .load(file_location)\n",
        "\n",
        "display(df_data_by_genres)"
      ],
      "execution_count": 17,
      "outputs": [
        {
          "output_type": "display_data",
          "data": {
            "text/plain": [
              "DataFrame[mode: int, genres: string, acousticness: double, danceability: double, duration_ms: double, energy: double, instrumentalness: double, liveness: double, loudness: double, speechiness: double, tempo: double, valence: double, popularity: double, key: int]"
            ]
          },
          "metadata": {
            "tags": []
          }
        }
      ]
    },
    {
      "cell_type": "code",
      "metadata": {
        "application/vnd.databricks.v1+cell": {
          "title": "",
          "showTitle": false,
          "inputWidgets": {},
          "nuid": "57d90260-3154-4a28-abf8-cfd2c966706a"
        },
        "colab": {
          "base_uri": "https://localhost:8080/",
          "height": 54
        },
        "id": "IyuWrLCeXrMf",
        "outputId": "7a80b18a-fc6d-4b9a-f491-373e7bcd739e"
      },
      "source": [
        "file_location = \"/content/data_by_year.csv\"\n",
        "file_type = \"csv\"\n",
        "\n",
        "# CSV options\n",
        "infer_schema = \"true\"\n",
        "first_row_is_header = \"true\"\n",
        "delimiter = \",\"\n",
        "\n",
        "# The applied options are for CSV files. For other file types, these will be ignored.\n",
        "df_data_by_year = spark.read.format(file_type) \\\n",
        "  .option(\"inferSchema\", infer_schema) \\\n",
        "  .option(\"header\", first_row_is_header) \\\n",
        "  .option(\"sep\", delimiter) \\\n",
        "  .load(file_location)\n",
        "\n",
        "display(df_data_by_year)"
      ],
      "execution_count": 18,
      "outputs": [
        {
          "output_type": "display_data",
          "data": {
            "text/plain": [
              "DataFrame[mode: int, year: int, acousticness: double, danceability: double, duration_ms: double, energy: double, instrumentalness: double, liveness: double, loudness: double, speechiness: double, tempo: double, valence: double, popularity: double, key: int]"
            ]
          },
          "metadata": {
            "tags": []
          }
        }
      ]
    },
    {
      "cell_type": "code",
      "metadata": {
        "colab": {
          "base_uri": "https://localhost:8080/"
        },
        "id": "cKo3dklglSxm",
        "outputId": "95086401-d2e4-4ddd-8521-0fa60606ee30"
      },
      "source": [
        "from google.colab import drive\n",
        "drive.mount('/content/drive')"
      ],
      "execution_count": 19,
      "outputs": [
        {
          "output_type": "stream",
          "text": [
            "Mounted at /content/drive\n"
          ],
          "name": "stdout"
        }
      ]
    },
    {
      "cell_type": "code",
      "metadata": {
        "application/vnd.databricks.v1+cell": {
          "title": "",
          "showTitle": false,
          "inputWidgets": {},
          "nuid": "9e351ca8-b1df-4852-a2b8-48f8c88b7962"
        },
        "colab": {
          "base_uri": "https://localhost:8080/",
          "height": 54
        },
        "id": "yyclpP8HXrMg",
        "outputId": "e81a70da-0ba2-49c0-91dc-e8d5c4728e75"
      },
      "source": [
        "file_location = \"/content/data_w_genres.csv\"\n",
        "file_type = \"csv\"\n",
        "\n",
        "# CSV options\n",
        "infer_schema = \"true\"\n",
        "first_row_is_header = \"true\"\n",
        "delimiter = \",\"\n",
        "\n",
        "# The applied options are for CSV files. For other file types, these will be ignored.\n",
        "df_data_w_genres = spark.read.format(file_type) \\\n",
        "  .option(\"inferSchema\", infer_schema) \\\n",
        "  .option(\"header\", first_row_is_header) \\\n",
        "  .option(\"sep\", delimiter) \\\n",
        "  .load(file_location)\n",
        "\n",
        "display(df_data_w_genres)\n",
        "\n"
      ],
      "execution_count": 20,
      "outputs": [
        {
          "output_type": "display_data",
          "data": {
            "text/plain": [
              "DataFrame[genres: string, artists: string, acousticness: string, danceability: string, duration_ms: string, energy: string, instrumentalness: string, liveness: string, loudness: double, speechiness: double, tempo: double, valence: double, popularity: double, key: double, mode: double, count: double]"
            ]
          },
          "metadata": {
            "tags": []
          }
        }
      ]
    },
    {
      "cell_type": "code",
      "metadata": {
        "application/vnd.databricks.v1+cell": {
          "title": "",
          "showTitle": false,
          "inputWidgets": {},
          "nuid": "d603b91d-e9aa-4906-a067-b38ccbd401d8"
        },
        "id": "75Qf0DpeXrMg"
      },
      "source": [
        "#Creating a single dataset \n",
        "\n",
        "df_data= df_data.select(\"*\").toPandas()\n",
        "df_data_by_artist= df_data_by_artist.select(\"*\").toPandas()\n",
        "df_data_by_genres= df_data_by_genres.select(\"*\").toPandas()\n",
        "df_data_by_year= df_data_by_year.select(\"*\").toPandas()\n",
        "df_data_w_genres= df_data_w_genres.select(\"*\").toPandas()\n",
        "\n",
        "data = pd.concat([df_data, df_data_by_artist, df_data_by_genres, df_data_by_year, df_data_w_genres], axis=0)\n",
        "data.rename(columns=lambda x: x.replace(' ', '_'), inplace=True)\n"
      ],
      "execution_count": 21,
      "outputs": []
    },
    {
      "cell_type": "code",
      "metadata": {
        "application/vnd.databricks.v1+cell": {
          "title": "",
          "showTitle": false,
          "inputWidgets": {},
          "nuid": "d42610b8-a711-48ee-adca-9f3a89639e48"
        },
        "colab": {
          "base_uri": "https://localhost:8080/",
          "height": 492
        },
        "id": "0-kbsm8eXrMh",
        "outputId": "168be779-2947-4028-a7f4-3e8bb6df0f55"
      },
      "source": [
        "data.head()\n"
      ],
      "execution_count": 22,
      "outputs": [
        {
          "output_type": "execute_result",
          "data": {
            "text/html": [
              "<div>\n",
              "<style scoped>\n",
              "    .dataframe tbody tr th:only-of-type {\n",
              "        vertical-align: middle;\n",
              "    }\n",
              "\n",
              "    .dataframe tbody tr th {\n",
              "        vertical-align: top;\n",
              "    }\n",
              "\n",
              "    .dataframe thead th {\n",
              "        text-align: right;\n",
              "    }\n",
              "</style>\n",
              "<table border=\"1\" class=\"dataframe\">\n",
              "  <thead>\n",
              "    <tr style=\"text-align: right;\">\n",
              "      <th></th>\n",
              "      <th>valence</th>\n",
              "      <th>year</th>\n",
              "      <th>acousticness</th>\n",
              "      <th>artists</th>\n",
              "      <th>danceability</th>\n",
              "      <th>duration_ms</th>\n",
              "      <th>energy</th>\n",
              "      <th>explicit</th>\n",
              "      <th>id</th>\n",
              "      <th>instrumentalness</th>\n",
              "      <th>key</th>\n",
              "      <th>liveness</th>\n",
              "      <th>loudness</th>\n",
              "      <th>mode</th>\n",
              "      <th>name</th>\n",
              "      <th>popularity</th>\n",
              "      <th>release_date</th>\n",
              "      <th>speechiness</th>\n",
              "      <th>tempo</th>\n",
              "      <th>count</th>\n",
              "      <th>genres</th>\n",
              "    </tr>\n",
              "  </thead>\n",
              "  <tbody>\n",
              "    <tr>\n",
              "      <th>0</th>\n",
              "      <td>0.0594</td>\n",
              "      <td>1921.0</td>\n",
              "      <td>0.982</td>\n",
              "      <td>['Sergei Rachmaninoff', 'James Levine', 'Berli...</td>\n",
              "      <td>0.279</td>\n",
              "      <td>831667</td>\n",
              "      <td>0.211</td>\n",
              "      <td>0</td>\n",
              "      <td>4BJqT0PrAfrxzMOxytFOIz</td>\n",
              "      <td>0.878</td>\n",
              "      <td>10</td>\n",
              "      <td>0.665</td>\n",
              "      <td>-20.096</td>\n",
              "      <td>1</td>\n",
              "      <td>Piano Concerto No. 3 in D Minor, Op. 30: III. ...</td>\n",
              "      <td>4</td>\n",
              "      <td>1921</td>\n",
              "      <td>0.0366</td>\n",
              "      <td>80.954</td>\n",
              "      <td>NaN</td>\n",
              "      <td>NaN</td>\n",
              "    </tr>\n",
              "    <tr>\n",
              "      <th>1</th>\n",
              "      <td>0.9630</td>\n",
              "      <td>1921.0</td>\n",
              "      <td>0.732</td>\n",
              "      <td>['Dennis Day']</td>\n",
              "      <td>0.8190000000000001</td>\n",
              "      <td>180533</td>\n",
              "      <td>0.341</td>\n",
              "      <td>0</td>\n",
              "      <td>7xPhfUan2yNtyFG0cUWkt8</td>\n",
              "      <td>0.0</td>\n",
              "      <td>7</td>\n",
              "      <td>0.16</td>\n",
              "      <td>-12.441</td>\n",
              "      <td>1</td>\n",
              "      <td>Clancy Lowered the Boom</td>\n",
              "      <td>5</td>\n",
              "      <td>1921</td>\n",
              "      <td>0.415</td>\n",
              "      <td>60.93600000000001</td>\n",
              "      <td>NaN</td>\n",
              "      <td>NaN</td>\n",
              "    </tr>\n",
              "    <tr>\n",
              "      <th>2</th>\n",
              "      <td>0.0394</td>\n",
              "      <td>1921.0</td>\n",
              "      <td>0.961</td>\n",
              "      <td>['KHP Kridhamardawa Karaton Ngayogyakarta Hadi...</td>\n",
              "      <td>0.328</td>\n",
              "      <td>500062</td>\n",
              "      <td>0.166</td>\n",
              "      <td>0</td>\n",
              "      <td>1o6I8BglA6ylDMrIELygv1</td>\n",
              "      <td>0.913</td>\n",
              "      <td>3</td>\n",
              "      <td>0.101</td>\n",
              "      <td>-14.85</td>\n",
              "      <td>1</td>\n",
              "      <td>Gati Bali</td>\n",
              "      <td>5</td>\n",
              "      <td>1921</td>\n",
              "      <td>0.0339</td>\n",
              "      <td>110.339</td>\n",
              "      <td>NaN</td>\n",
              "      <td>NaN</td>\n",
              "    </tr>\n",
              "    <tr>\n",
              "      <th>3</th>\n",
              "      <td>0.1650</td>\n",
              "      <td>1921.0</td>\n",
              "      <td>0.967</td>\n",
              "      <td>['Frank Parker']</td>\n",
              "      <td>0.275</td>\n",
              "      <td>210000</td>\n",
              "      <td>0.309</td>\n",
              "      <td>0</td>\n",
              "      <td>3ftBPsC5vPBKxYSee08FDH</td>\n",
              "      <td>2.77e-05</td>\n",
              "      <td>5</td>\n",
              "      <td>0.381</td>\n",
              "      <td>-9.316</td>\n",
              "      <td>1</td>\n",
              "      <td>Danny Boy</td>\n",
              "      <td>3</td>\n",
              "      <td>1921</td>\n",
              "      <td>0.0354</td>\n",
              "      <td>100.109</td>\n",
              "      <td>NaN</td>\n",
              "      <td>NaN</td>\n",
              "    </tr>\n",
              "    <tr>\n",
              "      <th>4</th>\n",
              "      <td>0.2530</td>\n",
              "      <td>1921.0</td>\n",
              "      <td>0.957</td>\n",
              "      <td>['Phil Regan']</td>\n",
              "      <td>0.418</td>\n",
              "      <td>166693</td>\n",
              "      <td>0.193</td>\n",
              "      <td>0</td>\n",
              "      <td>4d6HGyGT8e121BsdKmw9v6</td>\n",
              "      <td>1.68e-06</td>\n",
              "      <td>3</td>\n",
              "      <td>0.229</td>\n",
              "      <td>-10.096</td>\n",
              "      <td>1</td>\n",
              "      <td>When Irish Eyes Are Smiling</td>\n",
              "      <td>2</td>\n",
              "      <td>1921</td>\n",
              "      <td>0.038</td>\n",
              "      <td>101.665</td>\n",
              "      <td>NaN</td>\n",
              "      <td>NaN</td>\n",
              "    </tr>\n",
              "  </tbody>\n",
              "</table>\n",
              "</div>"
            ],
            "text/plain": [
              "   valence    year acousticness  ...              tempo count genres\n",
              "0   0.0594  1921.0        0.982  ...             80.954   NaN    NaN\n",
              "1   0.9630  1921.0        0.732  ...  60.93600000000001   NaN    NaN\n",
              "2   0.0394  1921.0        0.961  ...            110.339   NaN    NaN\n",
              "3   0.1650  1921.0        0.967  ...            100.109   NaN    NaN\n",
              "4   0.2530  1921.0        0.957  ...            101.665   NaN    NaN\n",
              "\n",
              "[5 rows x 21 columns]"
            ]
          },
          "metadata": {
            "tags": []
          },
          "execution_count": 22
        }
      ]
    },
    {
      "cell_type": "code",
      "metadata": {
        "application/vnd.databricks.v1+cell": {
          "title": "",
          "showTitle": false,
          "inputWidgets": {},
          "nuid": "9f2a607a-2c39-4663-90d8-b020e1040c86"
        },
        "colab": {
          "base_uri": "https://localhost:8080/"
        },
        "id": "IB0zhExpXrMh",
        "outputId": "796f147e-6995-444d-8652-56dd69e96643"
      },
      "source": [
        "data.info()"
      ],
      "execution_count": 23,
      "outputs": [
        {
          "output_type": "stream",
          "text": [
            "<class 'pandas.core.frame.DataFrame'>\n",
            "Int64Index: 204094 entries, 0 to 28679\n",
            "Data columns (total 21 columns):\n",
            " #   Column            Non-Null Count   Dtype  \n",
            "---  ------            --------------   -----  \n",
            " 0   valence           204094 non-null  float64\n",
            " 1   year              143760 non-null  float64\n",
            " 2   acousticness      204093 non-null  object \n",
            " 3   artists           201020 non-null  object \n",
            " 4   danceability      204093 non-null  object \n",
            " 5   duration_ms       204093 non-null  object \n",
            " 6   energy            204093 non-null  object \n",
            " 7   explicit          143660 non-null  object \n",
            " 8   id                143660 non-null  object \n",
            " 9   instrumentalness  204093 non-null  object \n",
            " 10  key               204093 non-null  object \n",
            " 11  liveness          204093 non-null  object \n",
            " 12  loudness          204093 non-null  object \n",
            " 13  mode              204093 non-null  object \n",
            " 14  name              143660 non-null  object \n",
            " 15  popularity        204093 non-null  object \n",
            " 16  release_date      143660 non-null  object \n",
            " 17  speechiness       204093 non-null  object \n",
            " 18  tempo             204093 non-null  object \n",
            " 19  count             57360 non-null   float64\n",
            " 20  genres            31653 non-null   object \n",
            "dtypes: float64(3), object(18)\n",
            "memory usage: 34.3+ MB\n"
          ],
          "name": "stdout"
        }
      ]
    },
    {
      "cell_type": "code",
      "metadata": {
        "application/vnd.databricks.v1+cell": {
          "title": "",
          "showTitle": false,
          "inputWidgets": {},
          "nuid": "6b89078c-21cb-4b7a-903d-66fd2a9ce88b"
        },
        "colab": {
          "base_uri": "https://localhost:8080/",
          "height": 492
        },
        "id": "FUG1KJGFXrMh",
        "outputId": "9cdd4052-76f4-4f89-fb79-c6ce2a7a44ea"
      },
      "source": [
        "data.head()"
      ],
      "execution_count": 25,
      "outputs": [
        {
          "output_type": "execute_result",
          "data": {
            "text/html": [
              "<div>\n",
              "<style scoped>\n",
              "    .dataframe tbody tr th:only-of-type {\n",
              "        vertical-align: middle;\n",
              "    }\n",
              "\n",
              "    .dataframe tbody tr th {\n",
              "        vertical-align: top;\n",
              "    }\n",
              "\n",
              "    .dataframe thead th {\n",
              "        text-align: right;\n",
              "    }\n",
              "</style>\n",
              "<table border=\"1\" class=\"dataframe\">\n",
              "  <thead>\n",
              "    <tr style=\"text-align: right;\">\n",
              "      <th></th>\n",
              "      <th>valence</th>\n",
              "      <th>year</th>\n",
              "      <th>acousticness</th>\n",
              "      <th>artists</th>\n",
              "      <th>danceability</th>\n",
              "      <th>duration_ms</th>\n",
              "      <th>energy</th>\n",
              "      <th>explicit</th>\n",
              "      <th>id</th>\n",
              "      <th>instrumentalness</th>\n",
              "      <th>key</th>\n",
              "      <th>liveness</th>\n",
              "      <th>loudness</th>\n",
              "      <th>mode</th>\n",
              "      <th>name</th>\n",
              "      <th>popularity</th>\n",
              "      <th>release_date</th>\n",
              "      <th>speechiness</th>\n",
              "      <th>tempo</th>\n",
              "      <th>count</th>\n",
              "      <th>genres</th>\n",
              "    </tr>\n",
              "  </thead>\n",
              "  <tbody>\n",
              "    <tr>\n",
              "      <th>0</th>\n",
              "      <td>0.0594</td>\n",
              "      <td>1921.0</td>\n",
              "      <td>0.982</td>\n",
              "      <td>['Sergei Rachmaninoff', 'James Levine', 'Berli...</td>\n",
              "      <td>0.279</td>\n",
              "      <td>831667</td>\n",
              "      <td>0.211</td>\n",
              "      <td>0</td>\n",
              "      <td>4BJqT0PrAfrxzMOxytFOIz</td>\n",
              "      <td>0.878</td>\n",
              "      <td>10</td>\n",
              "      <td>0.665</td>\n",
              "      <td>-20.096</td>\n",
              "      <td>1</td>\n",
              "      <td>Piano Concerto No. 3 in D Minor, Op. 30: III. ...</td>\n",
              "      <td>4</td>\n",
              "      <td>1921</td>\n",
              "      <td>0.0366</td>\n",
              "      <td>80.954</td>\n",
              "      <td>NaN</td>\n",
              "      <td>NaN</td>\n",
              "    </tr>\n",
              "    <tr>\n",
              "      <th>1</th>\n",
              "      <td>0.9630</td>\n",
              "      <td>1921.0</td>\n",
              "      <td>0.732</td>\n",
              "      <td>['Dennis Day']</td>\n",
              "      <td>0.8190000000000001</td>\n",
              "      <td>180533</td>\n",
              "      <td>0.341</td>\n",
              "      <td>0</td>\n",
              "      <td>7xPhfUan2yNtyFG0cUWkt8</td>\n",
              "      <td>0.0</td>\n",
              "      <td>7</td>\n",
              "      <td>0.16</td>\n",
              "      <td>-12.441</td>\n",
              "      <td>1</td>\n",
              "      <td>Clancy Lowered the Boom</td>\n",
              "      <td>5</td>\n",
              "      <td>1921</td>\n",
              "      <td>0.415</td>\n",
              "      <td>60.93600000000001</td>\n",
              "      <td>NaN</td>\n",
              "      <td>NaN</td>\n",
              "    </tr>\n",
              "    <tr>\n",
              "      <th>2</th>\n",
              "      <td>0.0394</td>\n",
              "      <td>1921.0</td>\n",
              "      <td>0.961</td>\n",
              "      <td>['KHP Kridhamardawa Karaton Ngayogyakarta Hadi...</td>\n",
              "      <td>0.328</td>\n",
              "      <td>500062</td>\n",
              "      <td>0.166</td>\n",
              "      <td>0</td>\n",
              "      <td>1o6I8BglA6ylDMrIELygv1</td>\n",
              "      <td>0.913</td>\n",
              "      <td>3</td>\n",
              "      <td>0.101</td>\n",
              "      <td>-14.85</td>\n",
              "      <td>1</td>\n",
              "      <td>Gati Bali</td>\n",
              "      <td>5</td>\n",
              "      <td>1921</td>\n",
              "      <td>0.0339</td>\n",
              "      <td>110.339</td>\n",
              "      <td>NaN</td>\n",
              "      <td>NaN</td>\n",
              "    </tr>\n",
              "    <tr>\n",
              "      <th>3</th>\n",
              "      <td>0.1650</td>\n",
              "      <td>1921.0</td>\n",
              "      <td>0.967</td>\n",
              "      <td>['Frank Parker']</td>\n",
              "      <td>0.275</td>\n",
              "      <td>210000</td>\n",
              "      <td>0.309</td>\n",
              "      <td>0</td>\n",
              "      <td>3ftBPsC5vPBKxYSee08FDH</td>\n",
              "      <td>2.77e-05</td>\n",
              "      <td>5</td>\n",
              "      <td>0.381</td>\n",
              "      <td>-9.316</td>\n",
              "      <td>1</td>\n",
              "      <td>Danny Boy</td>\n",
              "      <td>3</td>\n",
              "      <td>1921</td>\n",
              "      <td>0.0354</td>\n",
              "      <td>100.109</td>\n",
              "      <td>NaN</td>\n",
              "      <td>NaN</td>\n",
              "    </tr>\n",
              "    <tr>\n",
              "      <th>4</th>\n",
              "      <td>0.2530</td>\n",
              "      <td>1921.0</td>\n",
              "      <td>0.957</td>\n",
              "      <td>['Phil Regan']</td>\n",
              "      <td>0.418</td>\n",
              "      <td>166693</td>\n",
              "      <td>0.193</td>\n",
              "      <td>0</td>\n",
              "      <td>4d6HGyGT8e121BsdKmw9v6</td>\n",
              "      <td>1.68e-06</td>\n",
              "      <td>3</td>\n",
              "      <td>0.229</td>\n",
              "      <td>-10.096</td>\n",
              "      <td>1</td>\n",
              "      <td>When Irish Eyes Are Smiling</td>\n",
              "      <td>2</td>\n",
              "      <td>1921</td>\n",
              "      <td>0.038</td>\n",
              "      <td>101.665</td>\n",
              "      <td>NaN</td>\n",
              "      <td>NaN</td>\n",
              "    </tr>\n",
              "  </tbody>\n",
              "</table>\n",
              "</div>"
            ],
            "text/plain": [
              "   valence    year acousticness  ...              tempo count genres\n",
              "0   0.0594  1921.0        0.982  ...             80.954   NaN    NaN\n",
              "1   0.9630  1921.0        0.732  ...  60.93600000000001   NaN    NaN\n",
              "2   0.0394  1921.0        0.961  ...            110.339   NaN    NaN\n",
              "3   0.1650  1921.0        0.967  ...            100.109   NaN    NaN\n",
              "4   0.2530  1921.0        0.957  ...            101.665   NaN    NaN\n",
              "\n",
              "[5 rows x 21 columns]"
            ]
          },
          "metadata": {
            "tags": []
          },
          "execution_count": 25
        }
      ]
    },
    {
      "cell_type": "code",
      "metadata": {
        "application/vnd.databricks.v1+cell": {
          "title": "Data Pre-processing and Cleaning",
          "showTitle": true,
          "inputWidgets": {},
          "nuid": "45c606ec-ed40-4c93-b6b6-7a5454ef1277"
        },
        "id": "d77Ew2rpXrMi"
      },
      "source": [
        "data[\"artists\"]=data[\"artists\"].str.replace(\"[\", \"\")\n",
        "data[\"artists\"]=data[\"artists\"].str.replace(\"]\", \"\")\n",
        "data[\"artists\"]=data[\"artists\"].str.replace(\"'\", \"\")\n"
      ],
      "execution_count": 26,
      "outputs": []
    },
    {
      "cell_type": "code",
      "metadata": {
        "application/vnd.databricks.v1+cell": {
          "title": "",
          "showTitle": false,
          "inputWidgets": {},
          "nuid": "e227648d-e187-4cc6-b800-8918f6a2bbeb"
        },
        "id": "PrSUpHBfXrMi"
      },
      "source": [
        "data['genres'] = data['genres'].str.replace(\"'\",\"\")\n",
        "data['genres'] = data['genres'].str.replace(\"[\",\"\")\n",
        "data['genres'] = data['genres'].str.replace(\"]\",\"\")\n"
      ],
      "execution_count": 27,
      "outputs": []
    },
    {
      "cell_type": "code",
      "metadata": {
        "application/vnd.databricks.v1+cell": {
          "title": "",
          "showTitle": false,
          "inputWidgets": {},
          "nuid": "cceab541-3734-41a9-bd59-9d68918d4bdc"
        },
        "id": "ikjkQGkXXrMj"
      },
      "source": [
        "data['duration_ms'] = data['duration_ms'].str.replace(\"'\",\"\")\n",
        "data['duration_ms'] = data['duration_ms'].str.replace(\"[\",\"\")\n",
        "data['duration_ms'] = data['duration_ms'].str.replace(\"]\",\"\")\n",
        "data['duration_ms'] = data['duration_ms'].str.replace(\"\\*\",\"\")"
      ],
      "execution_count": 28,
      "outputs": []
    },
    {
      "cell_type": "code",
      "metadata": {
        "application/vnd.databricks.v1+cell": {
          "title": "",
          "showTitle": false,
          "inputWidgets": {},
          "nuid": "288dfe92-5d05-4bec-a550-791b7598753e"
        },
        "id": "H5r718XqXrMj"
      },
      "source": [
        "danceability = \"\"\n",
        "data['danceability']= danceability.strip(\"\")"
      ],
      "execution_count": 29,
      "outputs": []
    },
    {
      "cell_type": "code",
      "metadata": {
        "application/vnd.databricks.v1+cell": {
          "title": "",
          "showTitle": false,
          "inputWidgets": {},
          "nuid": "6633cd2a-0a62-4a36-b6ba-7e0f7e83bee8"
        },
        "id": "vZssHtSGXrMj"
      },
      "source": [
        "data['danceability'] = data['danceability'].str.replace(\"'\",\"\")\n",
        "data['danceability'] = data['danceability'].str.replace(\"[\",\"\")\n",
        "data['danceability'] = data['danceability'].str.replace(\"]\",\"\")\n",
        "data['danceability'] = data['danceability'].str.replace(r\"[a-zA-Z]\",'')\n",
        "#data['danceability'] = data['danceability'].apply(lambda x: float(x.split()[0].replace(\"[^a-zA-Z0-9]\", '')))\n"
      ],
      "execution_count": 30,
      "outputs": []
    },
    {
      "cell_type": "code",
      "metadata": {
        "application/vnd.databricks.v1+cell": {
          "title": "Removing all the duplicate columns ",
          "showTitle": true,
          "inputWidgets": {},
          "nuid": "5d2d5318-4aec-4d06-82e9-509266adae96"
        },
        "colab": {
          "base_uri": "https://localhost:8080/"
        },
        "id": "y7ohaFWXXrMk",
        "outputId": "b7be12b9-95bd-4ea4-8cbd-22e8c686599a"
      },
      "source": [
        "data.duplicated().any().sum()\n",
        "data = data[~data.duplicated()==1]\n",
        "data.shape"
      ],
      "execution_count": 31,
      "outputs": [
        {
          "output_type": "execute_result",
          "data": {
            "text/plain": [
              "(204094, 21)"
            ]
          },
          "metadata": {
            "tags": []
          },
          "execution_count": 31
        }
      ]
    },
    {
      "cell_type": "code",
      "metadata": {
        "application/vnd.databricks.v1+cell": {
          "title": "",
          "showTitle": false,
          "inputWidgets": {},
          "nuid": "88e8c286-a1a0-4aa5-ae13-2c19f778a6e6"
        },
        "colab": {
          "base_uri": "https://localhost:8080/"
        },
        "id": "QlpvjnUWXrMk",
        "outputId": "1e7f0588-9cd4-47c4-b573-3e3839b9051b"
      },
      "source": [
        "import pandas as pd\n",
        "import numpy as np\n",
        "\n",
        "data ['acousticness'] = pd.to_numeric(data['acousticness'], errors='coerce')\n",
        "data ['popularity'] = pd.to_numeric(data['popularity'], errors='coerce')\n",
        "data ['loudness'] = pd.to_numeric(data['loudness'], errors='coerce')\n",
        "data ['duration_ms'] = pd.to_numeric(data['duration_ms'], errors='coerce')\n",
        "\n",
        "data = data.replace(np.nan, 0, regex=True)\n",
        "\n",
        "print (data)\n",
        "print(data.dtypes)"
      ],
      "execution_count": 97,
      "outputs": [
        {
          "output_type": "stream",
          "text": [
            "        valence  ...                                             genres\n",
            "0      0.059400  ...                                                  0\n",
            "1      0.963000  ...                                                  0\n",
            "2      0.039400  ...                                                  0\n",
            "3      0.165000  ...                                                  0\n",
            "4      0.253000  ...                                                  0\n",
            "...         ...  ...                                                ...\n",
            "28675  0.328000  ...                                                   \n",
            "28676  0.243000  ...  c-pop, classic cantopop, classic mandopop, man...\n",
            "28677  0.741273  ...                                                   \n",
            "28678  0.352000  ...                  chinese indie, chinese indie rock\n",
            "28679  0.177000  ...                                 classic korean pop\n",
            "\n",
            "[204094 rows x 21 columns]\n",
            "valence             float64\n",
            "year                float64\n",
            "acousticness        float64\n",
            "artists              object\n",
            "danceability        float64\n",
            "duration_ms         float64\n",
            "energy               object\n",
            "explicit             object\n",
            "id                   object\n",
            "instrumentalness     object\n",
            "key                  object\n",
            "liveness             object\n",
            "loudness            float64\n",
            "mode                 object\n",
            "name                 object\n",
            "popularity          float64\n",
            "release_date         object\n",
            "speechiness          object\n",
            "tempo                object\n",
            "count               float64\n",
            "genres               object\n",
            "dtype: object\n"
          ],
          "name": "stdout"
        }
      ]
    },
    {
      "cell_type": "code",
      "metadata": {
        "application/vnd.databricks.v1+cell": {
          "title": "Visualizing the dataset ",
          "showTitle": true,
          "inputWidgets": {},
          "nuid": "9db16954-d20b-4955-9af7-6427561dafa3"
        },
        "colab": {
          "base_uri": "https://localhost:8080/",
          "height": 838
        },
        "id": "1Q1_45E5XrMk",
        "outputId": "98473d73-f94d-48be-d4f6-e5985fe2c1ac"
      },
      "source": [
        "import seaborn as sns\n",
        "import matplotlib.pyplot as plt\n",
        "fig,ax = plt.subplots(3,4,figsize=(20,15))\n",
        "\n",
        "sns.distplot(data['valence'],ax=ax[0,0])\n",
        "sns.distplot(data['year'],ax=ax[0,1])\n",
        "sns.distplot(data['acousticness'],ax=ax[0,2])\n",
        "#sns.distplot(data['danceability'],ax=ax[0,2])\n",
        "#sns.distplot(data['duration_ms'],ax=ax[0,2])\n",
        "#sns.distplot(data['popularity'],ax=ax[0,2])\n",
        "#sns.distplot(data['count'],ax=ax[0,2])\n",
        "\n",
        "\n",
        "\n"
      ],
      "execution_count": 106,
      "outputs": [
        {
          "output_type": "execute_result",
          "data": {
            "text/plain": [
              "<matplotlib.axes._subplots.AxesSubplot at 0x7f12556a8b10>"
            ]
          },
          "metadata": {
            "tags": []
          },
          "execution_count": 106
        },
        {
          "output_type": "display_data",
          "data": {
            "image/png": "[encoded data removed]",
            "text/plain": [
              "<Figure size 1440x1080 with 12 Axes>"
            ]
          },
          "metadata": {
            "tags": []
          }
        }
      ]
    },
    {
      "cell_type": "code",
      "metadata": {
        "application/vnd.databricks.v1+cell": {
          "title": "",
          "showTitle": false,
          "inputWidgets": {},
          "nuid": "30439538-4fe5-47b2-8c79-0930a1860cb2"
        },
        "colab": {
          "base_uri": "https://localhost:8080/",
          "height": 507
        },
        "id": "_IGnUKRLXrMl",
        "outputId": "0bf60267-e4bb-4592-fccb-06ececed683d"
      },
      "source": [
        "plt.figure(figsize=(16, 8))\n",
        "sns.set(style=\"whitegrid\")\n",
        "corr = data.corr()\n",
        "sns.heatmap(corr,annot=True,cmap='BrBG_r')"
      ],
      "execution_count": 107,
      "outputs": [
        {
          "output_type": "execute_result",
          "data": {
            "text/plain": [
              "<matplotlib.axes._subplots.AxesSubplot at 0x7f12557477d0>"
            ]
          },
          "metadata": {
            "tags": []
          },
          "execution_count": 107
        },
        {
          "output_type": "display_data",
          "data": {
            "image/png": "[encoded data removed]",
            "text/plain": [
              "<Figure size 1152x576 with 2 Axes>"
            ]
          },
          "metadata": {
            "tags": []
          }
        }
      ]
    },
    {
      "cell_type": "code",
      "metadata": {
        "colab": {
          "base_uri": "https://localhost:8080/"
        },
        "id": "Ybt3yrjlJU0P",
        "outputId": "217fdaa1-4df3-4267-ef33-b33636bc0688"
      },
      "source": [
        "data.dtypes"
      ],
      "execution_count": 100,
      "outputs": [
        {
          "output_type": "execute_result",
          "data": {
            "text/plain": [
              "valence             float64\n",
              "year                float64\n",
              "acousticness        float64\n",
              "artists              object\n",
              "danceability        float64\n",
              "duration_ms         float64\n",
              "energy               object\n",
              "explicit             object\n",
              "id                   object\n",
              "instrumentalness     object\n",
              "key                  object\n",
              "liveness             object\n",
              "loudness            float64\n",
              "mode                 object\n",
              "name                 object\n",
              "popularity          float64\n",
              "release_date         object\n",
              "speechiness          object\n",
              "tempo                object\n",
              "count               float64\n",
              "genres               object\n",
              "dtype: object"
            ]
          },
          "metadata": {
            "tags": []
          },
          "execution_count": 100
        }
      ]
    },
    {
      "cell_type": "code",
      "metadata": {
        "id": "L9qdjEg8KPWQ"
      },
      "source": [
        "#data[\"name\"] = data[\"name\"].astype(float)\n",
        "#print(data.dtypes)\n",
        "from pyspark.sql.functions import col"
      ],
      "execution_count": 101,
      "outputs": []
    },
    {
      "cell_type": "code",
      "metadata": {
        "application/vnd.databricks.v1+cell": {
          "title": "",
          "showTitle": false,
          "inputWidgets": {},
          "nuid": "715c3c8a-f987-49ba-a6e8-ba5c78600ea8"
        },
        "colab": {
          "base_uri": "https://localhost:8080/",
          "height": 526
        },
        "id": "Yt7rnwf6XrMl",
        "outputId": "ce4960d4-02f4-405e-a1ba-f3c73f6b07d2"
      },
      "source": [
        "fig, axis = plt.subplots(figsize = (16,7))\n",
        "popular = data.groupby(\"year\")['popularity'].mean().sort_values(ascending=False).head(15)\n",
        "axis = sns.barplot(popular.index,popular)\n",
        "axis.set_title('Year wise Popular Tracks')\n",
        "axis.set_ylabel('Popularity')\n",
        "axis.set_xlabel('Tracks')\n",
        "plt.xticks(rotation = 90)"
      ],
      "execution_count": 108,
      "outputs": [
        {
          "output_type": "execute_result",
          "data": {
            "text/plain": [
              "(array([ 0,  1,  2,  3,  4,  5,  6,  7,  8,  9, 10, 11, 12, 13, 14]),\n",
              " <a list of 15 Text major ticklabel objects>)"
            ]
          },
          "metadata": {
            "tags": []
          },
          "execution_count": 108
        },
        {
          "output_type": "display_data",
          "data": {
            "image/png": "[encoded data removed]",
            "text/plain": [
              "<Figure size 1152x504 with 1 Axes>"
            ]
          },
          "metadata": {
            "tags": []
          }
        }
      ]
    },
    {
      "cell_type": "code",
      "metadata": {
        "application/vnd.databricks.v1+cell": {
          "title": "",
          "showTitle": false,
          "inputWidgets": {},
          "nuid": "a84ab352-c242-44b3-ada7-d6d0a27e548b"
        },
        "colab": {
          "base_uri": "https://localhost:8080/",
          "height": 630
        },
        "id": "wi7Jn3rRXrMl",
        "outputId": "1f24b0a7-39fa-41fb-feb8-7550eb16d0f6"
      },
      "source": [
        "fig, axis = plt.subplots(figsize = (16,7))\n",
        "popular = data.groupby(\"artists\")['popularity'].sum().sort_values(ascending=False)[:20]\n",
        "axis = sns.barplot(popular.index,popular)\n",
        "axis.set_title('Top 20 Artists with Popularity')\n",
        "axis.set_ylabel('Popularity')\n",
        "axis.set_xlabel('Artists')\n",
        "plt.xticks(rotation = 90)"
      ],
      "execution_count": 109,
      "outputs": [
        {
          "output_type": "execute_result",
          "data": {
            "text/plain": [
              "(array([ 0,  1,  2,  3,  4,  5,  6,  7,  8,  9, 10, 11, 12, 13, 14, 15, 16,\n",
              "        17, 18, 19]), <a list of 20 Text major ticklabel objects>)"
            ]
          },
          "metadata": {
            "tags": []
          },
          "execution_count": 109
        },
        {
          "output_type": "display_data",
          "data": {
            "image/png": "[encoded data removed]",
            "text/plain": [
              "<Figure size 1152x504 with 1 Axes>"
            ]
          },
          "metadata": {
            "tags": []
          }
        }
      ]
    },
    {
      "cell_type": "code",
      "metadata": {
        "application/vnd.databricks.v1+cell": {
          "title": "",
          "showTitle": false,
          "inputWidgets": {},
          "nuid": "fb77a41d-1a3e-462c-ac7f-95ad41646b68"
        },
        "id": "6yna3CQFXrMm"
      },
      "source": [
        "from sklearn.model_selection import train_test_split\n",
        " \n",
        "train, test = train_test_split(data, random_state=123)\n",
        "X_train = train.drop([\"popularity\"], axis=1)\n",
        "X_test = test.drop([\"popularity\"], axis=1)\n",
        "X_train = train.drop([\"energy\"], axis=1)\n",
        "X_test = test.drop([\"energy\"], axis=1)\n",
        "X_train = train.drop([\"explicit\"], axis=1)\n",
        "X_test = test.drop([\"explicit\"], axis=1)\n",
        "X_train = train.drop([\"id\"], axis=1)\n",
        "X_test = test.drop([\"id\"], axis=1)\n",
        "X_train = train.drop([\"instrumentalness\"], axis=1)\n",
        "X_test = test.drop([\"instrumentalness\"], axis=1)\n",
        "X_train = train.drop([\"key\"], axis=1)\n",
        "X_test = test.drop([\"key\"], axis=1)\n",
        "X_train = train.drop([\"liveness\"], axis=1)\n",
        "X_test = test.drop([\"liveness\"], axis=1)\n",
        "\n",
        "y_train = train.drop([\"popularity\"], axis=1)\n",
        "y_test = test.drop([\"popularity\"], axis=1)\n",
        "y_train = train.drop([\"energy\"], axis=1)\n",
        "y_test = test.drop([\"energy\"], axis=1)\n",
        "y_train = train.drop([\"explicit\"], axis=1)\n",
        "y_test = test.drop([\"explicit\"], axis=1)\n",
        "y_train = train.drop([\"id\"], axis=1)\n",
        "y_test = test.drop([\"id\"], axis=1)\n",
        "y_train = train.drop([\"instrumentalness\"], axis=1)\n",
        "y_test = test.drop([\"instrumentalness\"], axis=1)\n",
        "y_train = train.drop([\"key\"], axis=1)\n",
        "y_test = test.drop([\"key\"], axis=1)\n",
        "y_train = train.drop([\"liveness\"], axis=1)\n",
        "y_test = test.drop([\"liveness\"], axis=1)\n",
        "X_train = train.drop([\"artists\"], axis=1)\n",
        "X_test = test.drop([\"artists\"], axis=1)\n",
        "y_train = train.drop([\"artists\"], axis=1)\n",
        "y_test = test.drop([\"artists\"], axis=1)\n",
        "\n"
      ],
      "execution_count": 147,
      "outputs": []
    },
    {
      "cell_type": "code",
      "metadata": {
        "colab": {
          "base_uri": "https://localhost:8080/"
        },
        "id": "O1mYQoZor5LM",
        "outputId": "b1342e26-917b-49f5-c2b6-9ed2a19a5afe"
      },
      "source": [
        "\n",
        "print(X_train.columns)\n",
        "print(y_train.columns)"
      ],
      "execution_count": 148,
      "outputs": [
        {
          "output_type": "stream",
          "text": [
            "Index(['valence', 'year', 'acousticness', 'danceability', 'duration_ms',\n",
            "       'energy', 'explicit', 'id', 'instrumentalness', 'key', 'liveness',\n",
            "       'loudness', 'mode', 'name', 'popularity', 'release_date', 'speechiness',\n",
            "       'tempo', 'count', 'genres'],\n",
            "      dtype='object')\n",
            "Index(['valence', 'year', 'acousticness', 'danceability', 'duration_ms',\n",
            "       'energy', 'explicit', 'id', 'instrumentalness', 'key', 'liveness',\n",
            "       'loudness', 'mode', 'name', 'popularity', 'release_date', 'speechiness',\n",
            "       'tempo', 'count', 'genres'],\n",
            "      dtype='object')\n"
          ],
          "name": "stdout"
        }
      ]
    },
    {
      "cell_type": "code",
      "metadata": {
        "id": "5ceEyZk5jhu7"
      },
      "source": [
        "\n",
        "y_train = train.duration_ms\n",
        "y_test = test.duration_ms"
      ],
      "execution_count": 136,
      "outputs": []
    },
    {
      "cell_type": "code",
      "metadata": {
        "colab": {
          "base_uri": "https://localhost:8080/"
        },
        "id": "Sx97yIpPk7fL",
        "outputId": "bd108a91-7f7a-46df-ff38-75072d73a32e"
      },
      "source": [
        "\n",
        "print(X_train.dtypes)\n",
        "#print(y_train.dtypes)"
      ],
      "execution_count": 141,
      "outputs": [
        {
          "output_type": "stream",
          "text": [
            "valence             float64\n",
            "year                float64\n",
            "acousticness        float64\n",
            "danceability        float64\n",
            "duration_ms         float64\n",
            "energy               object\n",
            "explicit             object\n",
            "id                   object\n",
            "instrumentalness     object\n",
            "key                  object\n",
            "liveness             object\n",
            "loudness            float64\n",
            "mode                 object\n",
            "name                 object\n",
            "popularity          float64\n",
            "release_date         object\n",
            "speechiness          object\n",
            "tempo                object\n",
            "count               float64\n",
            "genres               object\n",
            "dtype: object\n"
          ],
          "name": "stdout"
        }
      ]
    },
    {
      "cell_type": "code",
      "metadata": {
        "application/vnd.databricks.v1+cell": {
          "title": "",
          "showTitle": false,
          "inputWidgets": {},
          "nuid": "8eccc8f9-e667-4b06-9f00-dbe1f764f4c8"
        },
        "colab": {
          "base_uri": "https://localhost:8080/"
        },
        "id": "LYPc58YrXrMm",
        "outputId": "505dfdd7-4df5-4792-f002-b7d34dd31fe0"
      },
      "source": [
        "!pip3 install mlflow\n",
        "import mlflow\n",
        "import mlflow.pyfunc\n",
        "import mlflow.sklearn\n",
        "import numpy as np\n",
        "from sklearn.ensemble import RandomForestClassifier\n",
        "from sklearn.metrics import roc_auc_score\n",
        "from mlflow.models.signature import infer_signature"
      ],
      "execution_count": 113,
      "outputs": [
        {
          "output_type": "stream",
          "text": [
            "Requirement already satisfied: mlflow in /usr/local/lib/python3.7/dist-packages (1.17.0)\n",
            "Requirement already satisfied: querystring-parser in /usr/local/lib/python3.7/dist-packages (from mlflow) (1.2.4)\n",
            "Requirement already satisfied: sqlalchemy in /usr/local/lib/python3.7/dist-packages (from mlflow) (1.4.15)\n",
            "Requirement already satisfied: sqlparse>=0.3.1 in /usr/local/lib/python3.7/dist-packages (from mlflow) (0.4.1)\n",
            "Requirement already satisfied: databricks-cli>=0.8.7 in /usr/local/lib/python3.7/dist-packages (from mlflow) (0.14.3)\n",
            "Requirement already satisfied: requests>=2.17.3 in /usr/local/lib/python3.7/dist-packages (from mlflow) (2.23.0)\n",
            "Requirement already satisfied: gitpython>=2.1.0 in /usr/local/lib/python3.7/dist-packages (from mlflow) (3.1.17)\n",
            "Requirement already satisfied: protobuf>=3.6.0 in /usr/local/lib/python3.7/dist-packages (from mlflow) (3.12.4)\n",
            "Requirement already satisfied: pytz in /usr/local/lib/python3.7/dist-packages (from mlflow) (2018.9)\n",
            "Requirement already satisfied: gunicorn; platform_system != \"Windows\" in /usr/local/lib/python3.7/dist-packages (from mlflow) (20.1.0)\n",
            "Requirement already satisfied: entrypoints in /usr/local/lib/python3.7/dist-packages (from mlflow) (0.3)\n",
            "Requirement already satisfied: cloudpickle in /usr/local/lib/python3.7/dist-packages (from mlflow) (1.3.0)\n",
            "Requirement already satisfied: click>=7.0 in /usr/local/lib/python3.7/dist-packages (from mlflow) (7.1.2)\n",
            "Requirement already satisfied: pyyaml in /usr/local/lib/python3.7/dist-packages (from mlflow) (3.13)\n",
            "Requirement already satisfied: docker>=4.0.0 in /usr/local/lib/python3.7/dist-packages (from mlflow) (5.0.0)\n",
            "Requirement already satisfied: alembic<=1.4.1 in /usr/local/lib/python3.7/dist-packages (from mlflow) (1.4.1)\n",
            "Requirement already satisfied: Flask in /usr/local/lib/python3.7/dist-packages (from mlflow) (1.1.4)\n",
            "Requirement already satisfied: pandas in /usr/local/lib/python3.7/dist-packages (from mlflow) (1.1.5)\n",
            "Requirement already satisfied: numpy in /usr/local/lib/python3.7/dist-packages (from mlflow) (1.19.5)\n",
            "Requirement already satisfied: prometheus-flask-exporter in /usr/local/lib/python3.7/dist-packages (from mlflow) (0.18.2)\n",
            "Requirement already satisfied: six in /usr/local/lib/python3.7/dist-packages (from querystring-parser->mlflow) (1.15.0)\n",
            "Requirement already satisfied: importlib-metadata; python_version < \"3.8\" in /usr/local/lib/python3.7/dist-packages (from sqlalchemy->mlflow) (4.0.1)\n",
            "Requirement already satisfied: greenlet!=0.4.17; python_version >= \"3\" in /usr/local/lib/python3.7/dist-packages (from sqlalchemy->mlflow) (1.1.0)\n",
            "Requirement already satisfied: tabulate>=0.7.7 in /usr/local/lib/python3.7/dist-packages (from databricks-cli>=0.8.7->mlflow) (0.8.9)\n",
            "Requirement already satisfied: urllib3!=1.25.0,!=1.25.1,<1.26,>=1.21.1 in /usr/local/lib/python3.7/dist-packages (from requests>=2.17.3->mlflow) (1.24.3)\n",
            "Requirement already satisfied: certifi>=2017.4.17 in /usr/local/lib/python3.7/dist-packages (from requests>=2.17.3->mlflow) (2020.12.5)\n",
            "Requirement already satisfied: idna<3,>=2.5 in /usr/local/lib/python3.7/dist-packages (from requests>=2.17.3->mlflow) (2.10)\n",
            "Requirement already satisfied: chardet<4,>=3.0.2 in /usr/local/lib/python3.7/dist-packages (from requests>=2.17.3->mlflow) (3.0.4)\n",
            "Requirement already satisfied: gitdb<5,>=4.0.1 in /usr/local/lib/python3.7/dist-packages (from gitpython>=2.1.0->mlflow) (4.0.7)\n",
            "Requirement already satisfied: typing-extensions>=3.7.4.0; python_version < \"3.8\" in /usr/local/lib/python3.7/dist-packages (from gitpython>=2.1.0->mlflow) (3.7.4.3)\n",
            "Requirement already satisfied: setuptools in /usr/local/lib/python3.7/dist-packages (from protobuf>=3.6.0->mlflow) (57.0.0)\n",
            "Requirement already satisfied: websocket-client>=0.32.0 in /usr/local/lib/python3.7/dist-packages (from docker>=4.0.0->mlflow) (1.1.0)\n",
            "Requirement already satisfied: python-editor>=0.3 in /usr/local/lib/python3.7/dist-packages (from alembic<=1.4.1->mlflow) (1.0.4)\n",
            "Requirement already satisfied: python-dateutil in /usr/local/lib/python3.7/dist-packages (from alembic<=1.4.1->mlflow) (2.8.1)\n",
            "Requirement already satisfied: Mako in /usr/local/lib/python3.7/dist-packages (from alembic<=1.4.1->mlflow) (1.1.4)\n",
            "Requirement already satisfied: itsdangerous<2.0,>=0.24 in /usr/local/lib/python3.7/dist-packages (from Flask->mlflow) (1.1.0)\n",
            "Requirement already satisfied: Werkzeug<2.0,>=0.15 in /usr/local/lib/python3.7/dist-packages (from Flask->mlflow) (1.0.1)\n",
            "Requirement already satisfied: Jinja2<3.0,>=2.10.1 in /usr/local/lib/python3.7/dist-packages (from Flask->mlflow) (2.11.3)\n",
            "Requirement already satisfied: prometheus-client in /usr/local/lib/python3.7/dist-packages (from prometheus-flask-exporter->mlflow) (0.10.1)\n",
            "Requirement already satisfied: zipp>=0.5 in /usr/local/lib/python3.7/dist-packages (from importlib-metadata; python_version < \"3.8\"->sqlalchemy->mlflow) (3.4.1)\n",
            "Requirement already satisfied: smmap<5,>=3.0.1 in /usr/local/lib/python3.7/dist-packages (from gitdb<5,>=4.0.1->gitpython>=2.1.0->mlflow) (4.0.0)\n",
            "Requirement already satisfied: MarkupSafe>=0.9.2 in /usr/local/lib/python3.7/dist-packages (from Mako->alembic<=1.4.1->mlflow) (2.0.1)\n"
          ],
          "name": "stdout"
        }
      ]
    },
    {
      "cell_type": "code",
      "metadata": {
        "id": "4dD8RTuOhDWB"
      },
      "source": [
        "class SklearnModelWrapper(mlflow.pyfunc.PythonModel):\n",
        "  def __init__(self, model):\n",
        "    self.model = model\n",
        "    \n",
        "  def predict(self, context, model_input):\n",
        "    return self.model.predict_proba(model_input)[:,1]\n",
        "  \n",
        "with mlflow.start_run(run_name='untuned_random_forest'):\n",
        "  n_estimators = 10\n",
        "  model = RandomForestClassifier(n_estimators=n_estimators, random_state=np.random.RandomState(123))"
      ],
      "execution_count": 142,
      "outputs": []
    },
    {
      "cell_type": "code",
      "metadata": {
        "colab": {
          "base_uri": "https://localhost:8080/"
        },
        "id": "_ubQQL2aiNnT",
        "outputId": "2fba7f7b-0ba9-4b31-d05c-c2e7d7302551"
      },
      "source": [
        "#data ['duration_ms'] = pd.to_numeric(data['duration_ms'], errors='coerce')\n",
        "#data = data.replace(np.nan, 0, regex=True)\n",
        "\n",
        "print (data)\n",
        "print(data.dtypes)"
      ],
      "execution_count": 143,
      "outputs": [
        {
          "output_type": "stream",
          "text": [
            "        valence  ...                                             genres\n",
            "0      0.059400  ...                                                  0\n",
            "1      0.963000  ...                                                  0\n",
            "2      0.039400  ...                                                  0\n",
            "3      0.165000  ...                                                  0\n",
            "4      0.253000  ...                                                  0\n",
            "...         ...  ...                                                ...\n",
            "28675  0.328000  ...                                                   \n",
            "28676  0.243000  ...  c-pop, classic cantopop, classic mandopop, man...\n",
            "28677  0.741273  ...                                                   \n",
            "28678  0.352000  ...                  chinese indie, chinese indie rock\n",
            "28679  0.177000  ...                                 classic korean pop\n",
            "\n",
            "[204094 rows x 21 columns]\n",
            "valence             float64\n",
            "year                float64\n",
            "acousticness        float64\n",
            "artists              object\n",
            "danceability        float64\n",
            "duration_ms         float64\n",
            "energy               object\n",
            "explicit             object\n",
            "id                   object\n",
            "instrumentalness     object\n",
            "key                  object\n",
            "liveness             object\n",
            "loudness            float64\n",
            "mode                 object\n",
            "name                 object\n",
            "popularity          float64\n",
            "release_date         object\n",
            "speechiness          object\n",
            "tempo                object\n",
            "count               float64\n",
            "genres               object\n",
            "dtype: object\n"
          ],
          "name": "stdout"
        }
      ]
    },
    {
      "cell_type": "code",
      "metadata": {
        "id": "gOtPPGbnhnwZ"
      },
      "source": [
        "model.fit(X_train, y_train)"
      ],
      "execution_count": null,
      "outputs": []
    },
    {
      "cell_type": "code",
      "metadata": {
        "id": "1EpV6S_vgw8P"
      },
      "source": [
        "predictions_test = model.predict_proba(X_test)[:,1]\n",
        "auc_score = roc_auc_score(y_test, predictions_test)\n",
        "mlflow.log_param('n_estimators', n_estimators)\n",
        "\n",
        "mlflow.log_metric('auc', auc_score)\n",
        "wrappedModel = SklearnModelWrapper(model)\n",
        "\n",
        "signature = infer_signature(X_train, wrappedModel.predict(None, X_train))\n",
        "mlflow.pyfunc.log_model(\"random_forest_model\", python_model=wrappedModel, signature=signature)"
      ],
      "execution_count": null,
      "outputs": []
    }
  ]
}